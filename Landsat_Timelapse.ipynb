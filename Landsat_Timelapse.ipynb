{
  "nbformat": 4,
  "nbformat_minor": 0,
  "metadata": {
    "colab": {
      "provenance": []
    },
    "kernelspec": {
      "name": "python3",
      "display_name": "Python 3"
    },
    "language_info": {
      "name": "python"
    }
  },
  "cells": [
    {
      "cell_type": "markdown",
      "source": [
        "# **Landsat Timelapse**"
      ],
      "metadata": {
        "id": "B4NNFcBSEDmW"
      }
    },
    {
      "cell_type": "code",
      "execution_count": null,
      "metadata": {
        "id": "-areBmHbEC8v"
      },
      "outputs": [],
      "source": [
        "import ee"
      ]
    },
    {
      "cell_type": "code",
      "source": [
        "ee.Authenticate()"
      ],
      "metadata": {
        "id": "OqnjY-CWEV8V"
      },
      "execution_count": null,
      "outputs": []
    },
    {
      "cell_type": "code",
      "source": [
        "# Ganti 'ee-yourproject' dengan nama project Anda\n",
        "ee.Initialize(project='ee-yourproject')"
      ],
      "metadata": {
        "id": "q52-tgw_EXkr"
      },
      "execution_count": null,
      "outputs": []
    },
    {
      "cell_type": "code",
      "source": [
        "# Membuka sebuah shapefile dari Google Drive\n",
        "\n",
        "from google.colab import drive\n",
        "\n",
        "drive.mount('/content/gdrive')\n",
        "\n",
        "import geopandas as gpd\n",
        "\n",
        "# Sesuaikan nama folder Anda di dalam Google Drive dan nama shapefilenya\n",
        "# Catatan: Shapefile wajib memiliki Sistem Koordinat Geografis (GCS)\n",
        "# Shapefile harus poligon, dan tidak memiliki atribut ZM\n",
        "region_shp = gpd.read_file('/content/gdrive/MyDrive/Nama_folder/Nama_shapefile_Anda.shp')\n",
        "region_shp.plot()"
      ],
      "metadata": {
        "id": "tAjwyrobEa5d"
      },
      "execution_count": null,
      "outputs": []
    },
    {
      "cell_type": "code",
      "source": [
        "# Konversi shapefile ke Earth Engine geometry\n",
        "\n",
        "import json\n",
        "\n",
        "region_js = json.loads(region_shp.to_json())\n",
        "region_fc = ee.FeatureCollection(region_js)\n",
        "region = ee.Geometry(region_fc.geometry())"
      ],
      "metadata": {
        "id": "TkV3goA0EpVu"
      },
      "execution_count": null,
      "outputs": []
    },
    {
      "cell_type": "code",
      "source": [
        "# Instalasi paket yang diperlukan\n",
        "!pip install ffmpeg-python"
      ],
      "metadata": {
        "id": "OK2UsfJqEvBl"
      },
      "execution_count": null,
      "outputs": []
    },
    {
      "cell_type": "code",
      "source": [
        "# Membuat dan visualisasi Landsat Timelapse menggunakan Geemap\n",
        "\n",
        "\n",
        "# Atur sendiri rentang tahun yang Anda inginkan (Note: Paling lama mulai 1984)\n",
        "tahun_awal = 1984\n",
        "tahun_akhir = 2024\n",
        "\n",
        "# Judul, akan tampil di dalam animasi\n",
        "judul = \"Judul Animasi Anda\"\n",
        "\n",
        "# Atur output file gif animasi ke dalam Google Drive\n",
        "# Nanti file gif dan mp4 animasi bisa Anda download di dalam Google Drive\n",
        "out_gif = \"/content/gdrive/MyDrive/Nama_folder/Nama_animasi_Anda.gif\"\n",
        "\n",
        "import geemap\n",
        "\n",
        "timelapse = geemap.landsat_timelapse(\n",
        "    region,\n",
        "    out_gif=out_gif,\n",
        "    start_year=tahun_awal,\n",
        "    end_year=tahun_akhir,\n",
        "    start_date=\"01-01\",\n",
        "    end_date=\"12-31\",\n",
        "    bands=[\"SWIR1\", \"NIR\", \"Red\"],\n",
        "    frames_per_second=2,\n",
        "    title=judul,\n",
        "    progress_bar_color=\"blue\",\n",
        "    mp4=True,\n",
        ")\n",
        "\n",
        "# Proses mungkin akan berlangsung lama, harap bersabar\n",
        "geemap.show_image(timelapse)"
      ],
      "metadata": {
        "id": "8B6SQ4jDEzaO"
      },
      "execution_count": null,
      "outputs": []
    }
  ]
}